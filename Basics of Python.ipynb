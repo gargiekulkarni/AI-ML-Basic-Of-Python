{
 "cells": [
  {
   "cell_type": "code",
   "execution_count": 1,
   "id": "a81fa21a",
   "metadata": {},
   "outputs": [],
   "source": [
    "import pandas as pd\n",
    "import warnings\n",
    "warnings.filterwarnings(\"ignore\")"
   ]
  },
  {
   "cell_type": "markdown",
   "id": "8135e9d3",
   "metadata": {},
   "source": [
    "### Q1 Prime Number"
   ]
  },
  {
   "cell_type": "code",
   "execution_count": 2,
   "id": "9eab8c9e",
   "metadata": {},
   "outputs": [
    {
     "name": "stdout",
     "output_type": "stream",
     "text": [
      "29 is a prime number\n"
     ]
    }
   ],
   "source": [
    "num=29\n",
    "\n",
    "flag = False\n",
    "if num == 0 or num ==1:\n",
    "    print(num,\"is not a prime number\")\n",
    "elif num>1:\n",
    "    for i in range (2,num):\n",
    "        if(num % i)==0:\n",
    "            flag= True\n",
    "            break\n",
    "\n",
    "if flag:\n",
    "    print(num,\" is not a prime number\")\n",
    "else:\n",
    "    print(num,\"is a prime number\")\n"
   ]
  },
  {
   "cell_type": "markdown",
   "id": "7e01fdd5",
   "metadata": {},
   "source": [
    "### Q2 Product Of Random Numbers"
   ]
  },
  {
   "cell_type": "code",
   "execution_count": 3,
   "id": "9190ffa7",
   "metadata": {},
   "outputs": [
    {
     "name": "stdout",
     "output_type": "stream",
     "text": [
      "First number is: 30\n",
      "Second number is: 42\n",
      "You have entered the incorrect answer, correct answer is: 1260\n"
     ]
    }
   ],
   "source": [
    "import random\n",
    "\n",
    "ran1 = random.randint(0,50)\n",
    "print(\"First number is:\",ran1)\n",
    "ran2 = random.randint(0,50)\n",
    "print(\"Second number is:\",ran2)\n",
    "\n",
    "product = ran1 * ran2\n",
    "\n",
    "userInput = input(\"Please enter the product of above numbers:\")\n",
    "userAnswer = int(userInput)\n",
    "\n",
    "if not userInput :\n",
    "    print(\"Please enter the valid input\")\n",
    "elif userAnswer == product:\n",
    "    print(\"You have entered the correct answer:\",userInput)\n",
    "else:\n",
    "    print(\"You have entered the incorrect answer, correct answer is:\",product)"
   ]
  },
  {
   "cell_type": "markdown",
   "id": "7ecc85fc",
   "metadata": {},
   "source": [
    "### Q3 Square of Even/Odd Number\n",
    "#### Choosing Odd Number"
   ]
  },
  {
   "cell_type": "code",
   "execution_count": 4,
   "id": "ab5a985e",
   "metadata": {},
   "outputs": [
    {
     "name": "stdout",
     "output_type": "stream",
     "text": [
      "10201\n",
      "10609\n",
      "11025\n",
      "11449\n",
      "11881\n",
      "12321\n",
      "12769\n",
      "13225\n",
      "13689\n",
      "14161\n",
      "14641\n",
      "15129\n",
      "15625\n",
      "16129\n",
      "16641\n",
      "17161\n",
      "17689\n",
      "18225\n",
      "18769\n",
      "19321\n",
      "19881\n",
      "20449\n",
      "21025\n",
      "21609\n",
      "22201\n",
      "22801\n",
      "23409\n",
      "24025\n",
      "24649\n",
      "25281\n",
      "25921\n",
      "26569\n",
      "27225\n",
      "27889\n",
      "28561\n",
      "29241\n",
      "29929\n",
      "30625\n",
      "31329\n",
      "32041\n",
      "32761\n",
      "33489\n",
      "34225\n",
      "34969\n",
      "35721\n",
      "36481\n",
      "37249\n",
      "38025\n",
      "38809\n",
      "39601\n"
     ]
    }
   ],
   "source": [
    "for x in range(100,201):\n",
    "    if x %2 != 0:\n",
    "        res = x ** 2\n",
    "        print(res)"
   ]
  },
  {
   "cell_type": "markdown",
   "id": "eff15350",
   "metadata": {},
   "source": [
    "### Q4 Word Counter"
   ]
  },
  {
   "cell_type": "code",
   "execution_count": 5,
   "id": "63bc13cb",
   "metadata": {},
   "outputs": [
    {
     "name": "stdout",
     "output_type": "stream",
     "text": [
      "'This':2\n",
      "'is':1\n",
      "'a':1\n",
      "'sample':1\n",
      "'text.':1\n",
      "'text':1\n",
      "'will':1\n",
      "'be':1\n",
      "'used':1\n",
      "'to':1\n",
      "'demonstrate':1\n",
      "'the':1\n",
      "'word':1\n",
      "'counter.':1\n"
     ]
    }
   ],
   "source": [
    "def count_words(input_text):\n",
    "    words=input_text.split()\n",
    "    word_count={}\n",
    "\n",
    "    for word in words:\n",
    "        word_count[word] = word_count.get(word,0)+1\n",
    "\n",
    "    for word, count in word_count.items():\n",
    "        print(f\"'{word}':{count}\")\n",
    "\n",
    "input_text = \"This is a sample text. This text will be used to demonstrate the word counter.\"\n",
    "count_words(input_text) "
   ]
  },
  {
   "cell_type": "markdown",
   "id": "8dce187d",
   "metadata": {},
   "source": [
    "### Q5 Check for palindrome"
   ]
  },
  {
   "cell_type": "code",
   "execution_count": 6,
   "id": "b5672bd1",
   "metadata": {},
   "outputs": [
    {
     "name": "stdout",
     "output_type": "stream",
     "text": [
      "True\n"
     ]
    }
   ],
   "source": [
    "def palindrom_word(word):\n",
    "    if word == word[::-1]:\n",
    "        print(\"True\")\n",
    "    else:\n",
    "        print(\"False\")\n",
    "\n",
    "palindrom_word(\"racecar\")\n"
   ]
  },
  {
   "cell_type": "code",
   "execution_count": null,
   "id": "1fdc9929",
   "metadata": {},
   "outputs": [],
   "source": []
  }
 ],
 "metadata": {
  "kernelspec": {
   "display_name": "base",
   "language": "python",
   "name": "python3"
  },
  "language_info": {
   "codemirror_mode": {
    "name": "ipython",
    "version": 3
   },
   "file_extension": ".py",
   "mimetype": "text/x-python",
   "name": "python",
   "nbconvert_exporter": "python",
   "pygments_lexer": "ipython3",
   "version": "3.12.7"
  }
 },
 "nbformat": 4,
 "nbformat_minor": 5
}
